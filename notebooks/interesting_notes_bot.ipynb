{
 "cells": [
  {
   "cell_type": "code",
   "execution_count": 1,
   "metadata": {},
   "outputs": [],
   "source": [
    "yandex_app_key = '724f0fc500f24e5c819d73b1c0d7c020'\n",
    "yandex_app_secret = '22bee918482c4972957f0cc34a1fbd06'\n",
    "yandex_token = 'AQAAAAATRTcCAATojgcA_0RcIkReo7pQ1qaXJ0s'\n",
    "telegram_bot_token = '596764618:AAFfnyH_s6R_u9ZPyF6OH8nZS1q-woRZeoM'"
   ]
  },
  {
   "cell_type": "code",
   "execution_count": 243,
   "metadata": {},
   "outputs": [],
   "source": [
    "import requests\n",
    "\n",
    "import yadisk\n",
    "from yadisk.functions.resources import download\n",
    "\n",
    "import telebot\n",
    "from telebot import types\n",
    "\n",
    "from pprint import pprint"
   ]
  },
  {
   "cell_type": "code",
   "execution_count": 244,
   "metadata": {},
   "outputs": [],
   "source": [
    "yandex_api = yadisk.YaDisk(yandex_app_key, \n",
    "                           yandex_app_secret, yandex_token)\n",
    "bot = telebot.TeleBot(telegram_bot_token)"
   ]
  },
  {
   "cell_type": "code",
   "execution_count": 245,
   "metadata": {},
   "outputs": [],
   "source": [
    "def folders(path):\n",
    "    folders = list()\n",
    "    if yandex_api.is_dir(path):\n",
    "        for folder in yandex_api.listdir(path):\n",
    "            folders.append(folder.FIELDS['path'])\n",
    "    return folders"
   ]
  },
  {
   "cell_type": "code",
   "execution_count": 246,
   "metadata": {},
   "outputs": [],
   "source": [
    "def create_markup(items=[]):\n",
    "    markup = types.ReplyKeyboardMarkup(row_width=1)\n",
    "    btns = list()\n",
    "    for item in items:\n",
    "        row_btn = types.KeyboardButton(str(item))\n",
    "        btns.append(row_btn)\n",
    "    markup.add(*btns)\n",
    "    markup.add(types.KeyboardButton('go back'))\n",
    "    return markup"
   ]
  },
  {
   "cell_type": "code",
   "execution_count": 247,
   "metadata": {},
   "outputs": [],
   "source": [
    "@bot.message_handler(commands=['folders'])\n",
    "def send_welcome(message):\n",
    "    dirs = folders(path='disk:/')\n",
    "    markup = create_markup(dirs)\n",
    "    bot.send_message(chat_id=message.chat.id, text='at disk:/', \n",
    "                     reply_markup=markup)"
   ]
  },
  {
   "cell_type": "code",
   "execution_count": 248,
   "metadata": {},
   "outputs": [],
   "source": [
    "@bot.message_handler(content_types=['text'])\n",
    "def function_name(message):\n",
    "    \n",
    "    text = message.text\n",
    "    current_folder = text\n",
    "    \n",
    "    if current_folder == 'go back':\n",
    "        current_folder = '/'.join(current_folder.split('/')[:-1]) + '/'\n",
    "        dirs = folders(current_folder)\n",
    "        markup = create_markup(dirs)\n",
    "        bot.send_message(chat_id=message.chat.id, text='folders', \n",
    "                         reply_markup=markup)\n",
    "    elif yandex_api.is_dir(current_folder):\n",
    "        dirs = folders(current_folder)\n",
    "        markup = create_markup(dirs)\n",
    "        bot.send_message(chat_id=message.chat.id, text='folders', \n",
    "                         reply_markup=markup)\n",
    "    elif yandex_api.is_file(current_folder):\n",
    "        file_name = current_folder.split('/')[-1]\n",
    "        \n",
    "        file_link = yandex_api.get_download_link(current_folder)\n",
    "        file_link = '<a href=\"' + file_link + '\">' + file_name + '</a>'\n",
    "        \n",
    "        bot.send_message(chat_id=message.chat.id, text=file_link, \n",
    "                         parse_mode=\"HTML\")"
   ]
  },
  {
   "cell_type": "code",
   "execution_count": 249,
   "metadata": {},
   "outputs": [],
   "source": [
    "bot.polling()"
   ]
  },
  {
   "cell_type": "code",
   "execution_count": null,
   "metadata": {},
   "outputs": [],
   "source": [
    "msg_template = {\n",
    "    'content_type': 'text', \n",
    "    'message_id': 24, \n",
    "    'from_user': {\n",
    "        'id': 503388409, \n",
    "        'is_bot': False, \n",
    "        'first_name': 'Ромаха', \n",
    "        'username': 'loler_true', \n",
    "        'last_name': 'Омарович', \n",
    "        'language_code': 'en-US'\n",
    "    }, \n",
    "    'date': 1521838101, \n",
    "    'chat': {\n",
    "        'type': 'private', \n",
    "        'last_name': 'Омарович', \n",
    "        'first_name': 'Ромаха', \n",
    "        'username': 'loler_true', \n",
    "        'id': 503388409, \n",
    "        'title': None, \n",
    "        'all_members_are_administrators': None, \n",
    "        'photo': None, \n",
    "        'description': None, \n",
    "        'invite_link': None, \n",
    "        'pinned_message': None, \n",
    "        'sticker_set_name': None, \n",
    "        'can_set_sticker_set': None\n",
    "    }, \n",
    "    'forward_from_chat': None, \n",
    "    'forward_from': None, \n",
    "    'forward_date': None, \n",
    "    'reply_to_message': None, \n",
    "    'edit_date': None, \n",
    "    'media_group_id': None, \n",
    "    'author_signature': None, \n",
    "    'text': '/folders', \n",
    "    'caption_entities': None, \n",
    "    'audio': None, \n",
    "    'document': None, \n",
    "    'photo': None, \n",
    "    'sticker': None, \n",
    "    'video': None, \n",
    "    'video_note': None,\n",
    "    'voice': None, \n",
    "    'caption': None, \n",
    "    'contact': None, \n",
    "    'location': None, \n",
    "    'venue': None, \n",
    "    'new_chat_member': None, \n",
    "    'new_chat_members': None, \n",
    "    'left_chat_member': None, \n",
    "    'new_chat_title': None, \n",
    "    'new_chat_photo': None, \n",
    "    'delete_chat_photo': None, \n",
    "    'group_chat_created': None, \n",
    "    'supergroup_chat_created': None, \n",
    "    'channel_chat_created': None, \n",
    "    'migrate_to_chat_id': None, \n",
    "    'migrate_from_chat_id': None, \n",
    "    'pinned_message': None, \n",
    "    'invoice': None, \n",
    "    'successful_payment': None, \n",
    "    'connected_website': None\n",
    "}"
   ]
  }
 ],
 "metadata": {
  "kernelspec": {
   "display_name": "Python 3",
   "language": "python",
   "name": "python3"
  },
  "language_info": {
   "codemirror_mode": {
    "name": "ipython",
    "version": 3
   },
   "file_extension": ".py",
   "mimetype": "text/x-python",
   "name": "python",
   "nbconvert_exporter": "python",
   "pygments_lexer": "ipython3",
   "version": "3.6.4"
  }
 },
 "nbformat": 4,
 "nbformat_minor": 2
}
